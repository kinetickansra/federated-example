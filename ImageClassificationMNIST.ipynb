{
 "cells": [
  {
   "cell_type": "code",
   "execution_count": 4,
   "metadata": {},
   "outputs": [],
   "source": [
    "# -*- coding: utf-8 -*-\n",
    "#Based on tff tutorial"
   ]
  },
  {
   "cell_type": "code",
   "execution_count": 1,
   "metadata": {},
   "outputs": [
    {
     "name": "stdout",
     "output_type": "stream",
     "text": [
      "Python 3.7.4\r\n"
     ]
    }
   ],
   "source": [
    "!python --version"
   ]
  },
  {
   "cell_type": "code",
   "execution_count": 5,
   "metadata": {},
   "outputs": [
    {
     "name": "stdout",
     "output_type": "stream",
     "text": [
      "Defaulting to user installation because normal site-packages is not writeable\n",
      "Collecting numpy==1.16.4\n",
      "  Using cached numpy-1.16.4-cp36-cp36m-manylinux1_x86_64.whl (17.3 MB)\n",
      "Installing collected packages: numpy\n",
      "  Attempting uninstall: numpy\n",
      "    Found existing installation: numpy 1.18.1\n",
      "    Uninstalling numpy-1.18.1:\n",
      "      Successfully uninstalled numpy-1.18.1\n",
      "Successfully installed numpy-1.17.2\n",
      "Note: you may need to restart the kernel to use updated packages.\n"
     ]
    }
   ],
   "source": [
    "pip install numpy==1.16.4"
   ]
  },
  {
   "cell_type": "code",
   "execution_count": 2,
   "metadata": {},
   "outputs": [],
   "source": [
    "import tensorflow as tf"
   ]
  },
  {
   "cell_type": "code",
   "execution_count": 24,
   "metadata": {},
   "outputs": [],
   "source": [
    "import numpy as np\n",
    "import collections\n",
    "np.random.seed(0)\n",
    "import tensorflow as tf\n",
    "from tensorflow.keras.optimizers import SGD as sgd"
   ]
  },
  {
   "cell_type": "code",
   "execution_count": 5,
   "metadata": {},
   "outputs": [
    {
     "name": "stdout",
     "output_type": "stream",
     "text": [
      "Requirement already satisfied: tensorflow_federated in ./venv/lib/python3.7/site-packages (0.11.0)\n",
      "Requirement already satisfied: grpcio~=1.24.3 in ./venv/lib/python3.7/site-packages (from tensorflow_federated) (1.24.3)\n",
      "Requirement already satisfied: retrying~=1.3.3 in ./venv/lib/python3.7/site-packages (from tensorflow_federated) (1.3.3)\n",
      "Requirement already satisfied: tensorflow-privacy~=0.2.0 in ./venv/lib/python3.7/site-packages (from tensorflow_federated) (0.2.2)\n",
      "Requirement already satisfied: tensorflow~=2.0.0 in ./venv/lib/python3.7/site-packages (from tensorflow_federated) (2.0.1)\n",
      "Requirement already satisfied: cachetools~=3.1.1 in ./venv/lib/python3.7/site-packages (from tensorflow_federated) (3.1.1)\n",
      "Requirement already satisfied: dm-tree~=0.1.1 in ./venv/lib/python3.7/site-packages (from tensorflow_federated) (0.1.2)\n",
      "Requirement already satisfied: attrs~=18.2 in ./venv/lib/python3.7/site-packages (from tensorflow_federated) (18.2.0)\n",
      "Requirement already satisfied: portpicker~=1.3.1 in ./venv/lib/python3.7/site-packages (from tensorflow_federated) (1.3.1)\n",
      "Requirement already satisfied: tensorflow-model-optimization~=0.1.3 in ./venv/lib/python3.7/site-packages (from tensorflow_federated) (0.1.3)\n",
      "Requirement already satisfied: h5py~=2.6 in ./venv/lib/python3.7/site-packages (from tensorflow_federated) (2.10.0)\n",
      "Requirement already satisfied: tensorflow-addons~=0.6.0 in ./venv/lib/python3.7/site-packages (from tensorflow_federated) (0.6.0)\n",
      "Requirement already satisfied: six~=1.10 in ./venv/lib/python3.7/site-packages (from tensorflow_federated) (1.14.0)\n",
      "Requirement already satisfied: absl-py~=0.7 in ./venv/lib/python3.7/site-packages (from tensorflow_federated) (0.9.0)\n",
      "Requirement already satisfied: numpy~=1.14 in ./venv/lib/python3.7/site-packages (from tensorflow_federated) (1.18.1)\n",
      "Requirement already satisfied: enum34~=1.1 in ./venv/lib/python3.7/site-packages (from tensorflow_federated) (1.1.6)\n",
      "Requirement already satisfied: mpmath in ./venv/lib/python3.7/site-packages (from tensorflow-privacy~=0.2.0->tensorflow_federated) (1.1.0)\n",
      "Requirement already satisfied: scipy>=0.17 in ./venv/lib/python3.7/site-packages (from tensorflow-privacy~=0.2.0->tensorflow_federated) (1.4.1)\n",
      "Requirement already satisfied: tensorboard<2.1.0,>=2.0.0 in ./venv/lib/python3.7/site-packages (from tensorflow~=2.0.0->tensorflow_federated) (2.0.2)\n",
      "Requirement already satisfied: termcolor>=1.1.0 in ./venv/lib/python3.7/site-packages (from tensorflow~=2.0.0->tensorflow_federated) (1.1.0)\n",
      "Requirement already satisfied: keras-preprocessing>=1.0.5 in ./venv/lib/python3.7/site-packages (from tensorflow~=2.0.0->tensorflow_federated) (1.1.0)\n",
      "Requirement already satisfied: opt-einsum>=2.3.2 in ./venv/lib/python3.7/site-packages (from tensorflow~=2.0.0->tensorflow_federated) (3.1.0)\n",
      "Requirement already satisfied: astor>=0.6.0 in ./venv/lib/python3.7/site-packages (from tensorflow~=2.0.0->tensorflow_federated) (0.8.1)\n",
      "Requirement already satisfied: wheel>=0.26; python_version >= \"3\" in ./venv/lib/python3.7/site-packages (from tensorflow~=2.0.0->tensorflow_federated) (0.34.2)\n",
      "Requirement already satisfied: keras-applications>=1.0.8 in ./venv/lib/python3.7/site-packages (from tensorflow~=2.0.0->tensorflow_federated) (1.0.8)\n",
      "Requirement already satisfied: google-pasta>=0.1.6 in ./venv/lib/python3.7/site-packages (from tensorflow~=2.0.0->tensorflow_federated) (0.1.8)\n",
      "Requirement already satisfied: protobuf>=3.6.1 in ./venv/lib/python3.7/site-packages (from tensorflow~=2.0.0->tensorflow_federated) (3.11.3)\n",
      "Requirement already satisfied: wrapt>=1.11.1 in ./venv/lib/python3.7/site-packages (from tensorflow~=2.0.0->tensorflow_federated) (1.11.2)\n",
      "Requirement already satisfied: gast==0.2.2 in ./venv/lib/python3.7/site-packages (from tensorflow~=2.0.0->tensorflow_federated) (0.2.2)\n",
      "Requirement already satisfied: tensorflow-estimator<2.1.0,>=2.0.0 in ./venv/lib/python3.7/site-packages (from tensorflow~=2.0.0->tensorflow_federated) (2.0.1)\n",
      "Requirement already satisfied: tensorflow-gpu==2.0.0 in ./venv/lib/python3.7/site-packages (from tensorflow-addons~=0.6.0->tensorflow_federated) (2.0.0)\n",
      "Requirement already satisfied: setuptools>=41.0.0 in ./venv/lib/python3.7/site-packages (from tensorboard<2.1.0,>=2.0.0->tensorflow~=2.0.0->tensorflow_federated) (45.1.0)\n",
      "Requirement already satisfied: google-auth-oauthlib<0.5,>=0.4.1 in ./venv/lib/python3.7/site-packages (from tensorboard<2.1.0,>=2.0.0->tensorflow~=2.0.0->tensorflow_federated) (0.4.1)\n",
      "Requirement already satisfied: google-auth<2,>=1.6.3 in ./venv/lib/python3.7/site-packages (from tensorboard<2.1.0,>=2.0.0->tensorflow~=2.0.0->tensorflow_federated) (1.11.0)\n",
      "Requirement already satisfied: markdown>=2.6.8 in ./venv/lib/python3.7/site-packages (from tensorboard<2.1.0,>=2.0.0->tensorflow~=2.0.0->tensorflow_federated) (3.1.1)\n",
      "Requirement already satisfied: werkzeug>=0.11.15 in ./venv/lib/python3.7/site-packages (from tensorboard<2.1.0,>=2.0.0->tensorflow~=2.0.0->tensorflow_federated) (0.16.1)\n",
      "Requirement already satisfied: requests<3,>=2.21.0 in ./venv/lib/python3.7/site-packages (from tensorboard<2.1.0,>=2.0.0->tensorflow~=2.0.0->tensorflow_federated) (2.22.0)\n",
      "Requirement already satisfied: requests-oauthlib>=0.7.0 in ./venv/lib/python3.7/site-packages (from google-auth-oauthlib<0.5,>=0.4.1->tensorboard<2.1.0,>=2.0.0->tensorflow~=2.0.0->tensorflow_federated) (1.3.0)\n",
      "Requirement already satisfied: rsa<4.1,>=3.1.4 in ./venv/lib/python3.7/site-packages (from google-auth<2,>=1.6.3->tensorboard<2.1.0,>=2.0.0->tensorflow~=2.0.0->tensorflow_federated) (4.0)\n",
      "Requirement already satisfied: pyasn1-modules>=0.2.1 in ./venv/lib/python3.7/site-packages (from google-auth<2,>=1.6.3->tensorboard<2.1.0,>=2.0.0->tensorflow~=2.0.0->tensorflow_federated) (0.2.8)\n",
      "Requirement already satisfied: idna<2.9,>=2.5 in ./venv/lib/python3.7/site-packages (from requests<3,>=2.21.0->tensorboard<2.1.0,>=2.0.0->tensorflow~=2.0.0->tensorflow_federated) (2.8)\n",
      "Requirement already satisfied: certifi>=2017.4.17 in ./venv/lib/python3.7/site-packages (from requests<3,>=2.21.0->tensorboard<2.1.0,>=2.0.0->tensorflow~=2.0.0->tensorflow_federated) (2019.11.28)\n",
      "Requirement already satisfied: chardet<3.1.0,>=3.0.2 in ./venv/lib/python3.7/site-packages (from requests<3,>=2.21.0->tensorboard<2.1.0,>=2.0.0->tensorflow~=2.0.0->tensorflow_federated) (3.0.4)\n",
      "Requirement already satisfied: urllib3!=1.25.0,!=1.25.1,<1.26,>=1.21.1 in ./venv/lib/python3.7/site-packages (from requests<3,>=2.21.0->tensorboard<2.1.0,>=2.0.0->tensorflow~=2.0.0->tensorflow_federated) (1.25.8)\n",
      "Requirement already satisfied: oauthlib>=3.0.0 in ./venv/lib/python3.7/site-packages (from requests-oauthlib>=0.7.0->google-auth-oauthlib<0.5,>=0.4.1->tensorboard<2.1.0,>=2.0.0->tensorflow~=2.0.0->tensorflow_federated) (3.1.0)\n",
      "Requirement already satisfied: pyasn1>=0.1.3 in ./venv/lib/python3.7/site-packages (from rsa<4.1,>=3.1.4->google-auth<2,>=1.6.3->tensorboard<2.1.0,>=2.0.0->tensorflow~=2.0.0->tensorflow_federated) (0.4.8)\n"
     ]
    }
   ],
   "source": [
    "!pip install tensorflow_federated"
   ]
  },
  {
   "cell_type": "code",
   "execution_count": 10,
   "metadata": {},
   "outputs": [
    {
     "name": "stdout",
     "output_type": "stream",
     "text": [
      "Collecting tensorflow_federated\n",
      "\u001b[33m  Cache entry deserialization failed, entry ignored\u001b[0m\n",
      "\u001b[33m  Cache entry deserialization failed, entry ignored\u001b[0m\n",
      "  Downloading https://files.pythonhosted.org/packages/36/44/8ae10138714eb3caa19c7b6fd7a60f120cf85cb8478478290f019814db17/tensorflow_federated-0.11.0-py2.py3-none-any.whl (385kB)\n",
      "\u001b[K    100% |████████████████████████████████| 389kB 940kB/s ta 0:00:01\n",
      "\u001b[?25hCollecting retrying~=1.3.3 (from tensorflow_federated)\n",
      "\u001b[33m  Cache entry deserialization failed, entry ignored\u001b[0m\n",
      "\u001b[33m  Cache entry deserialization failed, entry ignored\u001b[0m\n",
      "  Downloading https://files.pythonhosted.org/packages/44/ef/beae4b4ef80902f22e3af073397f079c96969c69b2c7d52a57ea9ae61c9d/retrying-1.3.3.tar.gz\n",
      "Collecting tensorflow~=2.0.0 (from tensorflow_federated)\n",
      "\u001b[33m  Cache entry deserialization failed, entry ignored\u001b[0m\n",
      "\u001b[31m  Could not find a version that satisfies the requirement tensorflow~=2.0.0 (from tensorflow_federated) (from versions: 0.12.1, 1.0.0, 1.0.1, 1.1.0rc0, 1.1.0rc1, 1.1.0rc2, 1.1.0, 1.2.0rc0, 1.2.0rc1, 1.2.0rc2, 1.2.0, 1.2.1, 1.3.0rc0, 1.3.0rc1, 1.3.0rc2, 1.3.0, 1.4.0rc0, 1.4.0rc1, 1.4.0, 1.4.1, 1.5.0rc0, 1.5.0rc1, 1.5.0, 1.5.1, 1.6.0rc0, 1.6.0rc1, 1.6.0, 1.7.0rc0, 1.7.0rc1, 1.7.0, 1.7.1, 1.8.0rc0, 1.8.0rc1, 1.8.0, 1.9.0rc0, 1.9.0rc1, 1.9.0rc2, 1.9.0, 1.10.0rc0, 1.10.0rc1, 1.10.0, 1.10.1, 1.11.0rc0, 1.11.0rc1, 1.11.0rc2, 1.11.0, 1.12.0rc0, 1.12.0rc1, 1.12.0rc2, 1.12.0, 1.12.2, 1.12.3, 1.13.0rc0, 1.13.0rc1, 1.13.0rc2, 1.13.1, 1.13.2, 1.14.0rc0, 1.14.0rc1, 1.14.0, 2.0.0a0, 2.0.0b0, 2.0.0b1)\u001b[0m\n",
      "\u001b[31mNo matching distribution found for tensorflow~=2.0.0 (from tensorflow_federated)\u001b[0m\n",
      "Note: you may need to restart the kernel to use updated packages.\n"
     ]
    }
   ],
   "source": [
    "pip install tensorflow_federated --pre"
   ]
  },
  {
   "cell_type": "code",
   "execution_count": 3,
   "metadata": {},
   "outputs": [],
   "source": [
    "tf.compat.v1.enable_v2_behavior()\n",
    "import tensorflow_federated as tff\n",
    "from random import choices"
   ]
  },
  {
   "cell_type": "code",
   "execution_count": 7,
   "metadata": {},
   "outputs": [],
   "source": [
    "NUM_EPOCHS = 5\n",
    "BATCH_SIZE = 20\n",
    "SHUFFLE_BUFFER = 500\n",
    "NUM_CLIENTS = 3"
   ]
  },
  {
   "cell_type": "code",
   "execution_count": 9,
   "metadata": {},
   "outputs": [
    {
     "name": "stdout",
     "output_type": "stream",
     "text": [
      "Downloading data from https://storage.googleapis.com/tff-datasets-public/fed_emnist_digitsonly.tar.bz2\n",
      "97402880/97398400 [==============================] - 40s 0us/step\n"
     ]
    },
    {
     "name": "stderr",
     "output_type": "stream",
     "text": [
      "/home/bhrigu/.local/lib/python3.6/site-packages/h5py/_hl/dataset.py:313: H5pyDeprecationWarning: dataset.value has been deprecated. Use dataset[()] instead.\n",
      "  \"Use dataset[()] instead.\", H5pyDeprecationWarning)\n"
     ]
    }
   ],
   "source": [
    "emnist_train, emnist_test = tff.simulation.datasets.emnist.load_data()"
   ]
  },
  {
   "cell_type": "code",
   "execution_count": 16,
   "metadata": {},
   "outputs": [],
   "source": [
    "def preprocess(dataset):\n",
    "  def element_fn(element):\n",
    "    return collections.OrderedDict([\n",
    "        ('x', tf.reshape(element['pixels'], [-1])),\n",
    "        ('y', tf.reshape(element['label'], [1])),\n",
    "    ])\n",
    "\n",
    "  return dataset.repeat(NUM_EPOCHS).map(element_fn).shuffle(\n",
    "      SHUFFLE_BUFFER).batch(BATCH_SIZE)"
   ]
  },
  {
   "cell_type": "code",
   "execution_count": 17,
   "metadata": {},
   "outputs": [],
   "source": [
    "def make_federated_data(client_data, client_ids):\n",
    "  return [preprocess(client_data.create_tf_dataset_for_client(x))\n",
    "          for x in client_ids]"
   ]
  },
  {
   "cell_type": "code",
   "execution_count": 18,
   "metadata": {},
   "outputs": [],
   "source": [
    "sample_clients = emnist_train.client_ids[0: NUM_CLIENTS]\n",
    "federated_train_data = make_federated_data(emnist_train, sample_clients)"
   ]
  },
  {
   "cell_type": "code",
   "execution_count": 19,
   "metadata": {},
   "outputs": [],
   "source": [
    "sample_clients_test = emnist_test.client_ids[0: NUM_CLIENTS]\n",
    "federated_test_data = make_federated_data(emnist_test, sample_clients_test)"
   ]
  },
  {
   "cell_type": "code",
   "execution_count": 20,
   "metadata": {},
   "outputs": [],
   "source": [
    "#To create federated version of our model\n",
    "sample_batch = iter(federated_train_data[0]).next()\n",
    "sample_batch = collections.OrderedDict([\n",
    "    ('x', sample_batch['x'].numpy()),\n",
    "    ('y', sample_batch['y'].numpy()),\n",
    "])"
   ]
  },
  {
   "cell_type": "code",
   "execution_count": 25,
   "metadata": {},
   "outputs": [],
   "source": [
    "# Create a new model\n",
    "def create_compiled_keras_model():\n",
    "  model = tf.keras.models.Sequential([\n",
    "      tf.keras.layers.Dense(\n",
    "          10, activation=tf.nn.softmax, kernel_initializer='zeros', input_shape=(784,))])\n",
    "\n",
    "  def loss_fn(y_true, y_pred):\n",
    "    return tf.reduce_mean(tf.keras.losses.sparse_categorical_crossentropy(\n",
    "        y_true, y_pred))\n",
    "\n",
    "  model.compile(\n",
    "      loss=loss_fn,\n",
    "      optimizer=sgd(learning_rate=0.02),\n",
    "      metrics=[tf.keras.metrics.SparseCategoricalAccuracy()])\n",
    "  return model"
   ]
  },
  {
   "cell_type": "code",
   "execution_count": 26,
   "metadata": {},
   "outputs": [],
   "source": [
    "# Turn model into one that can be used with TFF\n",
    "def model_fn():\n",
    "  keras_model = create_compiled_keras_model()\n",
    "  return tff.learning.from_compiled_keras_model(keras_model, sample_batch)\n"
   ]
  },
  {
   "cell_type": "code",
   "execution_count": 27,
   "metadata": {},
   "outputs": [],
   "source": [
    "# Initialize training\n",
    "iterative_process = tff.learning.build_federated_averaging_process(model_fn)\n",
    "state = iterative_process.initialize()"
   ]
  },
  {
   "cell_type": "code",
   "execution_count": 28,
   "metadata": {},
   "outputs": [],
   "source": [
    "trained_clients=[]\n",
    "def get_train_data(keep_it_stupid_simple=False):\n",
    "    if keep_it_stupid_simple:\n",
    "        if not trained_clients:\n",
    "            trained_clients.append(sample_clients)\n",
    "        return federated_train_data\n",
    "    sc = choices(emnist_train.client_ids, k=NUM_CLIENTS)\n",
    "    for c in sc:\n",
    "        while True:\n",
    "            if c in trained_clients:\n",
    "                sc.remove(c)\n",
    "                newc=choices(emnist_train.client_ids, k=1)[0]\n",
    "                if newc not in trained_clients:\n",
    "                    sc.append(newc)\n",
    "                    break\n",
    "            else:\n",
    "                break\n",
    "    trained_clients.append(sc)\n",
    "    new_federated_train_data = make_federated_data(emnist_train, sc)\n",
    "    return new_federated_train_data"
   ]
  },
  {
   "cell_type": "code",
   "execution_count": 29,
   "metadata": {},
   "outputs": [
    {
     "name": "stdout",
     "output_type": "stream",
     "text": [
      "round  1, metrics=<sparse_categorical_accuracy=0.12218181788921356,loss=3.1812047958374023>\n",
      "round  2, metrics=<sparse_categorical_accuracy=0.1316363662481308,loss=3.169232130050659>\n",
      "round  3, metrics=<sparse_categorical_accuracy=0.15054544806480408,loss=3.0420103073120117>\n",
      "round  4, metrics=<sparse_categorical_accuracy=0.17599999904632568,loss=2.7166614532470703>\n",
      "round  5, metrics=<sparse_categorical_accuracy=0.1679999977350235,loss=2.795884609222412>\n",
      "Trained  3 clients\n",
      "[['f0000_14', 'f0001_41', 'f0005_26']]\n"
     ]
    }
   ],
   "source": [
    "# Training process\n",
    "for round_num in range(1, NUM_EPOCHS+1):\n",
    "  federated_train_data=get_train_data(True)\n",
    "  state, metrics = iterative_process.next(state, federated_train_data)\n",
    "  print('round {:2d}, metrics={}'.format(round_num, metrics))\n",
    "\n",
    "print('Trained {:2d} clients'.format(len(trained_clients)*NUM_CLIENTS))\n",
    "print(trained_clients)"
   ]
  },
  {
   "cell_type": "code",
   "execution_count": 30,
   "metadata": {},
   "outputs": [
    {
     "name": "stdout",
     "output_type": "stream",
     "text": [
      "Train metrics <sparse_categorical_accuracy=0.09454545378684998,loss=3.115405559539795>\n",
      "Test metrics <sparse_categorical_accuracy=0.09090909361839294,loss=3.0943548679351807>\n"
     ]
    }
   ],
   "source": [
    "# Evaluation\n",
    "evaluation = tff.learning.build_federated_evaluation(model_fn)\n",
    "\n",
    "train_metrics = evaluation(state.model, federated_train_data)\n",
    "print('Train metrics', str(train_metrics))\n",
    "\n",
    "test_metrics = evaluation(state.model, federated_test_data)\n",
    "print('Test metrics', str(test_metrics))"
   ]
  },
  {
   "cell_type": "code",
   "execution_count": null,
   "metadata": {},
   "outputs": [],
   "source": []
  }
 ],
 "metadata": {
  "kernelspec": {
   "display_name": "Python 3",
   "language": "python",
   "name": "python3"
  },
  "language_info": {
   "codemirror_mode": {
    "name": "ipython",
    "version": 3
   },
   "file_extension": ".py",
   "mimetype": "text/x-python",
   "name": "python",
   "nbconvert_exporter": "python",
   "pygments_lexer": "ipython3",
   "version": "3.6.9"
  }
 },
 "nbformat": 4,
 "nbformat_minor": 2
}
